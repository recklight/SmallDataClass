{
  "nbformat": 4,
  "nbformat_minor": 0,
  "metadata": {
    "colab": {
      "name": "Meta_learning_MAML_v2.ipynb",
      "provenance": [],
      "collapsed_sections": []
    },
    "kernelspec": {
      "display_name": "Python 3",
      "language": "python",
      "name": "python3"
    },
    "language_info": {
      "codemirror_mode": {
        "name": "ipython",
        "version": 3
      },
      "file_extension": ".py",
      "mimetype": "text/x-python",
      "name": "python",
      "nbconvert_exporter": "python",
      "pygments_lexer": "ipython3",
      "version": "3.7.0"
    },
    "accelerator": "GPU"
  },
  "cells": [
    {
      "cell_type": "code",
      "metadata": {
        "id": "tnF6S7A1DuGQ"
      },
      "source": [
        "import matplotlib.pyplot as plt\n",
        "import numpy as np\n",
        "import random\n",
        "import tensorflow as tf\n",
        "from tensorflow import keras\n",
        "from tensorflow.keras import layers\n",
        "import tensorflow_datasets as tfds\n",
        "from glob import glob\n",
        "import cv2\n",
        "from tqdm.auto import tqdm\n",
        "import os"
      ],
      "execution_count": null,
      "outputs": []
    },
    {
      "cell_type": "code",
      "metadata": {
        "id": "EDQSN01DFGsL",
        "colab": {
          "base_uri": "https://localhost:8080/"
        },
        "outputId": "142cbafc-60be-4bb3-e1a6-b0451ee7067f"
      },
      "source": [
        "# download from GoogleDrive\n",
        "# !gdown --id 1FLDrQ0k-iJ-mk8ors0WItqvwgu0w9J0U\n",
        "# !tar -xf omniglot.tar.gz"
      ],
      "execution_count": null,
      "outputs": [
        {
          "output_type": "stream",
          "text": [
            "Downloading...\n",
            "From: https://drive.google.com/uc?id=1FLDrQ0k-iJ-mk8ors0WItqvwgu0w9J0U\n",
            "To: /content/omniglot.tar.gz\n",
            "26.4MB [00:00, 123MB/s] \n"
          ],
          "name": "stdout"
        }
      ]
    },
    {
      "cell_type": "markdown",
      "metadata": {
        "id": "Gry7Zy8mDuGR"
      },
      "source": [
        "## Define the Hyperparameters\n"
      ]
    },
    {
      "cell_type": "code",
      "metadata": {
        "id": "r6puybaKDuGR"
      },
      "source": [
        "# for local\n",
        "DATA_DIR='../datasets/Omniglot_splited'\n",
        "# for Colab\n",
        "# DATA_DIR='./Omniglot'\n",
        "\n",
        "train_data_path = os.path.join(DATA_DIR, \"images_background/\")\n",
        "val_data_path = os.path.join(DATA_DIR, \"images_evaluation/\")\n",
        "\n",
        "batch_size = 32\n",
        "val_batch_size = 20\n",
        "epochs = 10\n",
        "inner_lr = 0.02\n",
        "\n",
        "n_way = 3\n",
        "k_shot = 5\n",
        "q_query = 1\n",
        "\n",
        "input_shape = (28, 28, 1)\n",
        "outer_lr = 0.0001"
      ],
      "execution_count": null,
      "outputs": []
    },
    {
      "cell_type": "markdown",
      "metadata": {
        "id": "SHD2eQ0MFtUs"
      },
      "source": [
        "## Visualize Data"
      ]
    },
    {
      "cell_type": "code",
      "metadata": {
        "id": "nitQlbDwFvsJ",
        "colab": {
          "base_uri": "https://localhost:8080/"
        },
        "outputId": "8ab01a00-4c2e-4ba2-927d-344f152b1b91"
      },
      "source": [
        "# training v.s test Omniglot classes\n",
        "source_classes = glob(DATA_DIR+'/images_background/*/*')\n",
        "target_classes = glob(DATA_DIR+'/images_evaluation/*/*')\n",
        "print(f'字符種類 train: test = {len(source_classes)} : {len(target_classes)}')"
      ],
      "execution_count": null,
      "outputs": [
        {
          "output_type": "stream",
          "text": [
            "字符種類 train: test = 3856 : 659\n"
          ],
          "name": "stdout"
        }
      ]
    },
    {
      "cell_type": "code",
      "metadata": {
        "id": "zSqiNbS3F6Zf",
        "colab": {
          "base_uri": "https://localhost:8080/"
        },
        "outputId": "99e2c63f-9d9e-4ded-ae5a-dd40222ab137"
      },
      "source": [
        "# dataset 結構: images_background/語言/字符id\n",
        "source_classes[:5]"
      ],
      "execution_count": null,
      "outputs": [
        {
          "output_type": "execute_result",
          "data": {
            "text/plain": [
              "['./Omniglot/images_background/Malay_(Jawi_-_Arabic).270/character20',\n",
              " './Omniglot/images_background/Malay_(Jawi_-_Arabic).270/character08',\n",
              " './Omniglot/images_background/Malay_(Jawi_-_Arabic).270/character35',\n",
              " './Omniglot/images_background/Malay_(Jawi_-_Arabic).270/character32',\n",
              " './Omniglot/images_background/Malay_(Jawi_-_Arabic).270/character22']"
            ]
          },
          "metadata": {
            "tags": []
          },
          "execution_count": 36
        }
      ]
    },
    {
      "cell_type": "code",
      "metadata": {
        "id": "VrJ547feF9Qd",
        "colab": {
          "base_uri": "https://localhost:8080/",
          "height": 282
        },
        "outputId": "c8e5b6a2-c479-4871-c6e8-49d5b20064ff"
      },
      "source": [
        "# 觀察圖片內容\n",
        "path = np.random.choice(glob(DATA_DIR+'/images_background/*/*/*.png'), 1)[0]\n",
        "img = cv2.imread(path)\n",
        "print(path, img.shape)\n",
        "plt.imshow(img)\n",
        "plt.show()"
      ],
      "execution_count": null,
      "outputs": [
        {
          "output_type": "stream",
          "text": [
            "./Omniglot/images_background/Tifinagh.270/character07/0916_13.png (28, 28, 3)\n"
          ],
          "name": "stdout"
        },
        {
          "output_type": "display_data",
          "data": {
            "image/png": "[encoded data removed]",
            "text/plain": [
              "<Figure size 432x288 with 1 Axes>"
            ]
          },
          "metadata": {
            "tags": [],
            "needs_background": "light"
          }
        }
      ]
    },
    {
      "cell_type": "markdown",
      "metadata": {
        "id": "ORuc5okADuGS"
      },
      "source": [
        "## Prepare the data"
      ]
    },
    {
      "cell_type": "code",
      "metadata": {
        "id": "rdzqj2QCDuGS"
      },
      "source": [
        "class MetaDataLoader:\n",
        "    def __init__(self, data_path, batch_size, n_way=5, k_shot=1, q_query=1):\n",
        "        \"\"\"\n",
        "        :param data_path: 資料夾下有子資料夾\n",
        "        :param batch_size: 一個批次有多少個不同的task\n",
        "        :param n_way: 一個task有幾類\n",
        "        :param k_shot: 一個類別中有幾張圖片用於inner loop training\n",
        "        :param q_query: 一個類別中有幾張圖片用於outer loop training\n",
        "        \"\"\"\n",
        "        self.file_list = [f for f in glob(data_path + \"**/character*\", recursive=True)]\n",
        "        self.steps = len(self.file_list) // batch_size\n",
        "\n",
        "        self.n_way = n_way\n",
        "        self.k_shot = k_shot\n",
        "        self.q_query = q_query\n",
        "        self.meta_batch_size = batch_size\n",
        "\n",
        "    def get_one_task_data(self):\n",
        "        \"\"\"\n",
        "        取一個task, 有n_way類別,每類別有 k_shot於inner training, q_query張於outer training\n",
        "        :return: support_data, query_data\n",
        "        \"\"\"\n",
        "        img_dirs = random.sample(self.file_list, self.n_way)\n",
        "        support_data = []\n",
        "        query_data = []\n",
        "\n",
        "        support_image = []\n",
        "        support_label = []\n",
        "        query_image = []\n",
        "        query_label = []\n",
        "\n",
        "        for label, img_dir in enumerate(img_dirs):\n",
        "            img_list = [f for f in glob(img_dir + \"**/*.png\", recursive=True)]\n",
        "            images = random.sample(img_list, self.k_shot + self.q_query)\n",
        "\n",
        "            # Read support set\n",
        "            for img_path in images[:self.k_shot]:\n",
        "                image = cv2.imread(img_path)\n",
        "                image = cv2.cvtColor(image, cv2.COLOR_BGR2GRAY) / 255.\n",
        "                image = np.expand_dims(image, axis=-1)\n",
        "                support_data.append((image, label))\n",
        "\n",
        "            # Read query set\n",
        "            for img_path in images[self.k_shot:]:\n",
        "                image = cv2.imread(img_path)\n",
        "                image = cv2.cvtColor(image, cv2.COLOR_BGR2GRAY) / 255.\n",
        "                image = np.expand_dims(image, axis=-1)\n",
        "                query_image.append(image)\n",
        "                query_label.append(label)\n",
        "\n",
        "        # shuffle support set\n",
        "        random.shuffle(support_data)\n",
        "        for data in support_data:\n",
        "            support_image.append(data[0])\n",
        "            support_label.append(data[1])\n",
        "\n",
        "        # shuffle query set\n",
        "        random.shuffle(query_data)\n",
        "        for data in query_data:\n",
        "            query_image.append(data[0])\n",
        "            query_label.append(data[1])\n",
        "\n",
        "        return np.array(support_image), np.array(support_label), np.array(query_image), np.array(query_label)\n",
        "\n",
        "    def get_one_batch(self):\n",
        "        \"\"\"\n",
        "        取一個batch, 以task為個體\n",
        "        :return: k_shot_data, q_query_data\n",
        "        \"\"\"\n",
        "\n",
        "        while True:\n",
        "            batch_support_image = []\n",
        "            batch_support_label = []\n",
        "            batch_query_image = []\n",
        "            batch_query_label = []\n",
        "\n",
        "            for _ in range(self.meta_batch_size):\n",
        "                support_image, support_label, query_image, query_label = self.get_one_task_data()\n",
        "                batch_support_image.append(support_image)\n",
        "                batch_support_label.append(support_label)\n",
        "                batch_query_image.append(query_image)\n",
        "                batch_query_label.append(query_label)\n",
        "\n",
        "            yield np.array(batch_support_image), np.array(batch_support_label), \\\n",
        "                  np.array(batch_query_image), np.array(batch_query_label)\n",
        "\n",
        "train_loader = MetaDataLoader(train_data_path, batch_size, n_way=n_way, k_shot=k_shot, q_query=q_query)\n",
        "val_loader = MetaDataLoader(val_data_path, batch_size, n_way=n_way, k_shot=k_shot, q_query=q_query)"
      ],
      "execution_count": null,
      "outputs": []
    },
    {
      "cell_type": "markdown",
      "metadata": {
        "id": "IFt6STu9DuGT"
      },
      "source": [
        "## Visualize some examples from the dataset\n"
      ]
    },
    {
      "cell_type": "code",
      "metadata": {
        "id": "x71uaHKKDuGU",
        "colab": {
          "base_uri": "https://localhost:8080/",
          "height": 605
        },
        "outputId": "7efdaafd-c2e2-4629-cbf3-c81cb6f19305"
      },
      "source": [
        "support_imgs, support_labels, q_imgs, q_labels = train_loader.get_one_task_data()\n",
        "\n",
        "plt.figure(figsize=(20, 10))\n",
        "for i in range(len(support_imgs)):\n",
        "    plt.subplot(3, 5, i+1)\n",
        "    plt.title(f'label: {support_labels[i]}')\n",
        "    plt.imshow(support_imgs[i, :, :, 0], cmap='gray')\n",
        "plt.show()\n"
      ],
      "execution_count": null,
      "outputs": [
        {
          "output_type": "display_data",
          "data": {
            "image/png": "[encoded data removed]",
            "text/plain": [
              "<Figure size 1440x720 with 15 Axes>"
            ]
          },
          "metadata": {
            "tags": [],
            "needs_background": "light"
          }
        }
      ]
    },
    {
      "cell_type": "markdown",
      "metadata": {
        "id": "6YputSVJDuGU"
      },
      "source": [
        "## Build the model\n"
      ]
    },
    {
      "cell_type": "code",
      "metadata": {
        "id": "IbmsrvXnDuGU"
      },
      "source": [
        "\n",
        "def conv_bn(x):\n",
        "    x = layers.Conv2D(filters=64, kernel_size=3, padding=\"same\")(x)\n",
        "    x = layers.BatchNormalization()(x)\n",
        "    x = layers.ReLU()(x)\n",
        "    x = layers.MaxPooling2D()(x)\n",
        "    return x\n",
        "\n",
        "\n",
        "inputs = layers.Input(shape=(28, 28, 1))\n",
        "x = conv_bn(inputs)\n",
        "x = conv_bn(x)\n",
        "x = conv_bn(x)\n",
        "x = conv_bn(x)\n",
        "x = layers.Flatten()(x)\n",
        "outputs = layers.Dense(n_way, activation=\"softmax\")(x)\n",
        "model = keras.Model(inputs=inputs, outputs=outputs)\n",
        "\n",
        "\n",
        "inner_optimizer = keras.optimizers.Adam(learning_rate=inner_lr)\n",
        "outer_optimizer = keras.optimizers.Adam(learning_rate=outer_lr)\n",
        "\n",
        "model.compile(optimizer=inner_optimizer, \n",
        "              loss=keras.losses.sparse_categorical_crossentropy)"
      ],
      "execution_count": null,
      "outputs": []
    },
    {
      "cell_type": "markdown",
      "metadata": {
        "id": "kk62RWyhDuGV"
      },
      "source": [
        "## Train the model\n"
      ]
    },
    {
      "cell_type": "code",
      "metadata": {
        "id": "JN__NmqXQQH4"
      },
      "source": [
        "def maml(model, batch_data, inner_optimizer, outer_optimizer, inner_step=1, training=True):\n",
        "    meta_support_image, meta_support_label, meta_query_image, meta_query_label = next(batch_data)\n",
        "    batch_acc = []\n",
        "    batch_loss = []\n",
        "\n",
        "    for support_image, support_label, query_image, query_label in zip(meta_support_image, meta_support_label, meta_query_image, meta_query_label):\n",
        "        # 保存一開始model weights\n",
        "        meta_weights = model.get_weights()\n",
        "\n",
        "        # inner loop training\n",
        "        for _ in range(inner_step):\n",
        "            with tf.GradientTape() as tape:\n",
        "                logits = model(support_image, training=True)\n",
        "                loss = keras.losses.sparse_categorical_crossentropy(support_label, logits)\n",
        "                loss = tf.reduce_mean(loss)\n",
        "            grads = tape.gradient(loss, model.trainable_variables)\n",
        "            inner_optimizer.apply_gradients(zip(grads, model.trainable_variables))\n",
        "        \n",
        "        # outer loop training: 計算query set loss\n",
        "        with tf.GradientTape() as tape:\n",
        "            logits = model(query_image, training=True)\n",
        "            loss = keras.losses.sparse_categorical_crossentropy(query_label, logits)\n",
        "            loss = tf.reduce_mean(loss)\n",
        "            acc = (np.argmax(logits, -1) == query_label).astype(np.int32).mean()\n",
        "\n",
        "            batch_loss.append(loss)\n",
        "            batch_acc.append(acc)\n",
        "        # 回復成一開始weights\n",
        "        model.set_weights(meta_weights)\n",
        "\n",
        "        # 在training set中需要更新 meta model\n",
        "        if training:\n",
        "            grads = tape.gradient(loss, model.trainable_variables)\n",
        "            outer_optimizer.apply_gradients(zip(grads, model.trainable_variables))\n",
        "    return np.array(batch_loss).mean(), np.array(batch_acc).mean()\n",
        "\n"
      ],
      "execution_count": null,
      "outputs": []
    },
    {
      "cell_type": "markdown",
      "metadata": {
        "id": "mCUxemJK8sV4"
      },
      "source": [
        "#### MAML"
      ]
    },
    {
      "cell_type": "code",
      "metadata": {
        "id": "BPxtgjFwDuGV"
      },
      "source": [
        "train_meta_loss = []\n",
        "train_meta_acc = []\n",
        "val_meta_loss = []\n",
        "val_meta_acc = []\n",
        "\n",
        "for meta_iter in tqdm(range(epochs)):\n",
        "    # Training\n",
        "    for i in tqdm(range(train_loader.steps), leave=False):\n",
        "        batch_data = train_loader.get_one_batch() # batch_sup_img, batch_sup_label, batch_query_img, batch_query_label\n",
        "        batch_train_loss, batch_train_acc = maml(model, batch_data, inner_optimizer, outer_optimizer, inner_step=1, training=True)\n",
        "        train_meta_loss.append(batch_train_loss)\n",
        "        train_meta_acc.append(batch_train_acc)\n",
        "    # Validation\n",
        "    for i in range(val_loader.steps):\n",
        "        batch_data = val_loader.get_one_batch()\n",
        "        batch_val_loss, batch_val_acc = maml(model, batch_data, inner_optimizer, outer_optimizer, inner_step=3, training=False)\n",
        "        val_meta_loss.append(batch_val_loss)\n",
        "        val_meta_acc.append(batch_val_acc)\n",
        "    print(f'[epoch {meta_iter:05d}]: train_loss: {np.mean(train_meta_loss):.4f} val_loss: {np.mean(val_meta_loss):.4f} train_acc: {np.mean(train_meta_acc):.3f} val_acc: {np.mean(val_meta_acc):.3f}')\n"
      ],
      "execution_count": null,
      "outputs": []
    },
    {
      "cell_type": "code",
      "metadata": {
        "id": "xPCT_0CajvkS"
      },
      "source": [
        "# val_acc: 0.828 at epoch 5"
      ],
      "execution_count": null,
      "outputs": []
    },
    {
      "cell_type": "markdown",
      "metadata": {
        "id": "VPjZY13rgke5"
      },
      "source": [
        "#### HINT: Generate Kaggle submission"
      ]
    },
    {
      "cell_type": "code",
      "metadata": {
        "id": "QnkohDzncCIc"
      },
      "source": [
        "# backup model weights\n",
        "w = model.get_weights()\n",
        "# read kaggle test1.csv file row by row\n",
        "for row in \"test1.csv\":\n",
        "    # restore model weights at the begining of adaptation\n",
        "    model.set_weights(w)\n",
        "    # each row is a task (3 way 1 shot) for adaptation\n",
        "    # read imgs and label (support_0: class 0, support_1: class 1, support_2: class 2)\n",
        "    imgs, labels = read_img()\n",
        "\n",
        "    # update model N times by (imgs, labels)\n",
        "\n",
        "    # use adapted model to predict img in \"filename\" column\n",
        "    y_pred = model.predict(img_filename)\n",
        "    # get predict class and save to submission file\n",
        "\n",
        "    "
      ],
      "execution_count": null,
      "outputs": []
    }
  ]
}